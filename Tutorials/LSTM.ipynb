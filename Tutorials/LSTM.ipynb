{
  "nbformat": 4,
  "nbformat_minor": 0,
  "metadata": {
    "colab": {
      "provenance": [],
      "gpuType": "T4",
      "authorship_tag": "ABX9TyMEZKqQpyEjEAU2QtywbJkN",
      "include_colab_link": true
    },
    "kernelspec": {
      "name": "python3",
      "display_name": "Python 3"
    },
    "language_info": {
      "name": "python"
    },
    "accelerator": "GPU",
    "widgets": {
      "application/vnd.jupyter.widget-state+json": {
        "a8ca8f727751409f9defb9cb0f02b195": {
          "model_module": "@jupyter-widgets/controls",
          "model_name": "HBoxModel",
          "model_module_version": "1.5.0",
          "state": {
            "_dom_classes": [],
            "_model_module": "@jupyter-widgets/controls",
            "_model_module_version": "1.5.0",
            "_model_name": "HBoxModel",
            "_view_count": null,
            "_view_module": "@jupyter-widgets/controls",
            "_view_module_version": "1.5.0",
            "_view_name": "HBoxView",
            "box_style": "",
            "children": [
              "IPY_MODEL_a0bf0fd08404449496be2070b51165b1",
              "IPY_MODEL_38f7b4df609b4a4aa555b93e08f8cb27",
              "IPY_MODEL_e24542efa37f45bdbc961875ffbcc1e1"
            ],
            "layout": "IPY_MODEL_a09b1f7334bd443eb887dded1806a28c"
          }
        },
        "a0bf0fd08404449496be2070b51165b1": {
          "model_module": "@jupyter-widgets/controls",
          "model_name": "HTMLModel",
          "model_module_version": "1.5.0",
          "state": {
            "_dom_classes": [],
            "_model_module": "@jupyter-widgets/controls",
            "_model_module_version": "1.5.0",
            "_model_name": "HTMLModel",
            "_view_count": null,
            "_view_module": "@jupyter-widgets/controls",
            "_view_module_version": "1.5.0",
            "_view_name": "HTMLView",
            "description": "",
            "description_tooltip": null,
            "layout": "IPY_MODEL_8fecbd9c5c8649699d37e93a8c00dc97",
            "placeholder": "​",
            "style": "IPY_MODEL_41551ca099584b76a1b01bb06880b933",
            "value": "Training: 100%"
          }
        },
        "38f7b4df609b4a4aa555b93e08f8cb27": {
          "model_module": "@jupyter-widgets/controls",
          "model_name": "FloatProgressModel",
          "model_module_version": "1.5.0",
          "state": {
            "_dom_classes": [],
            "_model_module": "@jupyter-widgets/controls",
            "_model_module_version": "1.5.0",
            "_model_name": "FloatProgressModel",
            "_view_count": null,
            "_view_module": "@jupyter-widgets/controls",
            "_view_module_version": "1.5.0",
            "_view_name": "ProgressView",
            "bar_style": "success",
            "description": "",
            "description_tooltip": null,
            "layout": "IPY_MODEL_a2cb0a042ebc4292a9c5c4ff1baccba4",
            "max": 200,
            "min": 0,
            "orientation": "horizontal",
            "style": "IPY_MODEL_307c261809d24f67a18f70b143608dc6",
            "value": 200
          }
        },
        "e24542efa37f45bdbc961875ffbcc1e1": {
          "model_module": "@jupyter-widgets/controls",
          "model_name": "HTMLModel",
          "model_module_version": "1.5.0",
          "state": {
            "_dom_classes": [],
            "_model_module": "@jupyter-widgets/controls",
            "_model_module_version": "1.5.0",
            "_model_name": "HTMLModel",
            "_view_count": null,
            "_view_module": "@jupyter-widgets/controls",
            "_view_module_version": "1.5.0",
            "_view_name": "HTMLView",
            "description": "",
            "description_tooltip": null,
            "layout": "IPY_MODEL_510822965db44d9a83d9463078eb7918",
            "placeholder": "​",
            "style": "IPY_MODEL_8f3fb973394447d79e1f7e14b4d08c2d",
            "value": " 200/200 [00:23&lt;00:00,  8.84it/s]"
          }
        },
        "a09b1f7334bd443eb887dded1806a28c": {
          "model_module": "@jupyter-widgets/base",
          "model_name": "LayoutModel",
          "model_module_version": "1.2.0",
          "state": {
            "_model_module": "@jupyter-widgets/base",
            "_model_module_version": "1.2.0",
            "_model_name": "LayoutModel",
            "_view_count": null,
            "_view_module": "@jupyter-widgets/base",
            "_view_module_version": "1.2.0",
            "_view_name": "LayoutView",
            "align_content": null,
            "align_items": null,
            "align_self": null,
            "border": null,
            "bottom": null,
            "display": null,
            "flex": null,
            "flex_flow": null,
            "grid_area": null,
            "grid_auto_columns": null,
            "grid_auto_flow": null,
            "grid_auto_rows": null,
            "grid_column": null,
            "grid_gap": null,
            "grid_row": null,
            "grid_template_areas": null,
            "grid_template_columns": null,
            "grid_template_rows": null,
            "height": null,
            "justify_content": null,
            "justify_items": null,
            "left": null,
            "margin": null,
            "max_height": null,
            "max_width": null,
            "min_height": null,
            "min_width": null,
            "object_fit": null,
            "object_position": null,
            "order": null,
            "overflow": null,
            "overflow_x": null,
            "overflow_y": null,
            "padding": null,
            "right": null,
            "top": null,
            "visibility": null,
            "width": null
          }
        },
        "8fecbd9c5c8649699d37e93a8c00dc97": {
          "model_module": "@jupyter-widgets/base",
          "model_name": "LayoutModel",
          "model_module_version": "1.2.0",
          "state": {
            "_model_module": "@jupyter-widgets/base",
            "_model_module_version": "1.2.0",
            "_model_name": "LayoutModel",
            "_view_count": null,
            "_view_module": "@jupyter-widgets/base",
            "_view_module_version": "1.2.0",
            "_view_name": "LayoutView",
            "align_content": null,
            "align_items": null,
            "align_self": null,
            "border": null,
            "bottom": null,
            "display": null,
            "flex": null,
            "flex_flow": null,
            "grid_area": null,
            "grid_auto_columns": null,
            "grid_auto_flow": null,
            "grid_auto_rows": null,
            "grid_column": null,
            "grid_gap": null,
            "grid_row": null,
            "grid_template_areas": null,
            "grid_template_columns": null,
            "grid_template_rows": null,
            "height": null,
            "justify_content": null,
            "justify_items": null,
            "left": null,
            "margin": null,
            "max_height": null,
            "max_width": null,
            "min_height": null,
            "min_width": null,
            "object_fit": null,
            "object_position": null,
            "order": null,
            "overflow": null,
            "overflow_x": null,
            "overflow_y": null,
            "padding": null,
            "right": null,
            "top": null,
            "visibility": null,
            "width": null
          }
        },
        "41551ca099584b76a1b01bb06880b933": {
          "model_module": "@jupyter-widgets/controls",
          "model_name": "DescriptionStyleModel",
          "model_module_version": "1.5.0",
          "state": {
            "_model_module": "@jupyter-widgets/controls",
            "_model_module_version": "1.5.0",
            "_model_name": "DescriptionStyleModel",
            "_view_count": null,
            "_view_module": "@jupyter-widgets/base",
            "_view_module_version": "1.2.0",
            "_view_name": "StyleView",
            "description_width": ""
          }
        },
        "a2cb0a042ebc4292a9c5c4ff1baccba4": {
          "model_module": "@jupyter-widgets/base",
          "model_name": "LayoutModel",
          "model_module_version": "1.2.0",
          "state": {
            "_model_module": "@jupyter-widgets/base",
            "_model_module_version": "1.2.0",
            "_model_name": "LayoutModel",
            "_view_count": null,
            "_view_module": "@jupyter-widgets/base",
            "_view_module_version": "1.2.0",
            "_view_name": "LayoutView",
            "align_content": null,
            "align_items": null,
            "align_self": null,
            "border": null,
            "bottom": null,
            "display": null,
            "flex": null,
            "flex_flow": null,
            "grid_area": null,
            "grid_auto_columns": null,
            "grid_auto_flow": null,
            "grid_auto_rows": null,
            "grid_column": null,
            "grid_gap": null,
            "grid_row": null,
            "grid_template_areas": null,
            "grid_template_columns": null,
            "grid_template_rows": null,
            "height": null,
            "justify_content": null,
            "justify_items": null,
            "left": null,
            "margin": null,
            "max_height": null,
            "max_width": null,
            "min_height": null,
            "min_width": null,
            "object_fit": null,
            "object_position": null,
            "order": null,
            "overflow": null,
            "overflow_x": null,
            "overflow_y": null,
            "padding": null,
            "right": null,
            "top": null,
            "visibility": null,
            "width": null
          }
        },
        "307c261809d24f67a18f70b143608dc6": {
          "model_module": "@jupyter-widgets/controls",
          "model_name": "ProgressStyleModel",
          "model_module_version": "1.5.0",
          "state": {
            "_model_module": "@jupyter-widgets/controls",
            "_model_module_version": "1.5.0",
            "_model_name": "ProgressStyleModel",
            "_view_count": null,
            "_view_module": "@jupyter-widgets/base",
            "_view_module_version": "1.2.0",
            "_view_name": "StyleView",
            "bar_color": null,
            "description_width": ""
          }
        },
        "510822965db44d9a83d9463078eb7918": {
          "model_module": "@jupyter-widgets/base",
          "model_name": "LayoutModel",
          "model_module_version": "1.2.0",
          "state": {
            "_model_module": "@jupyter-widgets/base",
            "_model_module_version": "1.2.0",
            "_model_name": "LayoutModel",
            "_view_count": null,
            "_view_module": "@jupyter-widgets/base",
            "_view_module_version": "1.2.0",
            "_view_name": "LayoutView",
            "align_content": null,
            "align_items": null,
            "align_self": null,
            "border": null,
            "bottom": null,
            "display": null,
            "flex": null,
            "flex_flow": null,
            "grid_area": null,
            "grid_auto_columns": null,
            "grid_auto_flow": null,
            "grid_auto_rows": null,
            "grid_column": null,
            "grid_gap": null,
            "grid_row": null,
            "grid_template_areas": null,
            "grid_template_columns": null,
            "grid_template_rows": null,
            "height": null,
            "justify_content": null,
            "justify_items": null,
            "left": null,
            "margin": null,
            "max_height": null,
            "max_width": null,
            "min_height": null,
            "min_width": null,
            "object_fit": null,
            "object_position": null,
            "order": null,
            "overflow": null,
            "overflow_x": null,
            "overflow_y": null,
            "padding": null,
            "right": null,
            "top": null,
            "visibility": null,
            "width": null
          }
        },
        "8f3fb973394447d79e1f7e14b4d08c2d": {
          "model_module": "@jupyter-widgets/controls",
          "model_name": "DescriptionStyleModel",
          "model_module_version": "1.5.0",
          "state": {
            "_model_module": "@jupyter-widgets/controls",
            "_model_module_version": "1.5.0",
            "_model_name": "DescriptionStyleModel",
            "_view_count": null,
            "_view_module": "@jupyter-widgets/base",
            "_view_module_version": "1.2.0",
            "_view_name": "StyleView",
            "description_width": ""
          }
        }
      }
    }
  },
  "cells": [
    {
      "cell_type": "markdown",
      "metadata": {
        "id": "view-in-github",
        "colab_type": "text"
      },
      "source": [
        "<a href=\"https://colab.research.google.com/github/TerryTian21/PyTorch-Practice/blob/main/Tutorials/LSTM.ipynb\" target=\"_parent\"><img src=\"https://colab.research.google.com/assets/colab-badge.svg\" alt=\"Open In Colab\"/></a>"
      ]
    },
    {
      "cell_type": "markdown",
      "source": [
        "# LSTM\n",
        "\n",
        "Follwing the guide by [Rian Dolphin](https://levelup.gitconnected.com/forecasting-walmart-quarterly-revenue-pytorch-lstm-example-b4e4b20862a7) we will explore a time series forecasting using LSTM."
      ],
      "metadata": {
        "id": "6Dp78StAfrWe"
      }
    },
    {
      "cell_type": "markdown",
      "source": [
        "## Data\n",
        "\n",
        "The data is characteristic of seasonal time-series data with repeated patterns (revenue as a function of time). Found [here](https://github.com/rian-dolphin/Walmart_LSTM/blob/main/WMT_Earnings.csv)\n"
      ],
      "metadata": {
        "id": "4j6HN13vf6GF"
      }
    },
    {
      "cell_type": "code",
      "source": [
        "from google.colab import files\n",
        "files.upload()"
      ],
      "metadata": {
        "id": "6pvPbW0ogN-T",
        "colab": {
          "base_uri": "https://localhost:8080/",
          "height": 628
        },
        "outputId": "2eb1810f-4365-42d0-e54c-9437cd21b460"
      },
      "execution_count": 3,
      "outputs": [
        {
          "output_type": "display_data",
          "data": {
            "text/plain": [
              "<IPython.core.display.HTML object>"
            ],
            "text/html": [
              "\n",
              "     <input type=\"file\" id=\"files-b18941b8-8666-4511-8427-7e4dbf41228b\" name=\"files[]\" multiple disabled\n",
              "        style=\"border:none\" />\n",
              "     <output id=\"result-b18941b8-8666-4511-8427-7e4dbf41228b\">\n",
              "      Upload widget is only available when the cell has been executed in the\n",
              "      current browser session. Please rerun this cell to enable.\n",
              "      </output>\n",
              "      <script>// Copyright 2017 Google LLC\n",
              "//\n",
              "// Licensed under the Apache License, Version 2.0 (the \"License\");\n",
              "// you may not use this file except in compliance with the License.\n",
              "// You may obtain a copy of the License at\n",
              "//\n",
              "//      http://www.apache.org/licenses/LICENSE-2.0\n",
              "//\n",
              "// Unless required by applicable law or agreed to in writing, software\n",
              "// distributed under the License is distributed on an \"AS IS\" BASIS,\n",
              "// WITHOUT WARRANTIES OR CONDITIONS OF ANY KIND, either express or implied.\n",
              "// See the License for the specific language governing permissions and\n",
              "// limitations under the License.\n",
              "\n",
              "/**\n",
              " * @fileoverview Helpers for google.colab Python module.\n",
              " */\n",
              "(function(scope) {\n",
              "function span(text, styleAttributes = {}) {\n",
              "  const element = document.createElement('span');\n",
              "  element.textContent = text;\n",
              "  for (const key of Object.keys(styleAttributes)) {\n",
              "    element.style[key] = styleAttributes[key];\n",
              "  }\n",
              "  return element;\n",
              "}\n",
              "\n",
              "// Max number of bytes which will be uploaded at a time.\n",
              "const MAX_PAYLOAD_SIZE = 100 * 1024;\n",
              "\n",
              "function _uploadFiles(inputId, outputId) {\n",
              "  const steps = uploadFilesStep(inputId, outputId);\n",
              "  const outputElement = document.getElementById(outputId);\n",
              "  // Cache steps on the outputElement to make it available for the next call\n",
              "  // to uploadFilesContinue from Python.\n",
              "  outputElement.steps = steps;\n",
              "\n",
              "  return _uploadFilesContinue(outputId);\n",
              "}\n",
              "\n",
              "// This is roughly an async generator (not supported in the browser yet),\n",
              "// where there are multiple asynchronous steps and the Python side is going\n",
              "// to poll for completion of each step.\n",
              "// This uses a Promise to block the python side on completion of each step,\n",
              "// then passes the result of the previous step as the input to the next step.\n",
              "function _uploadFilesContinue(outputId) {\n",
              "  const outputElement = document.getElementById(outputId);\n",
              "  const steps = outputElement.steps;\n",
              "\n",
              "  const next = steps.next(outputElement.lastPromiseValue);\n",
              "  return Promise.resolve(next.value.promise).then((value) => {\n",
              "    // Cache the last promise value to make it available to the next\n",
              "    // step of the generator.\n",
              "    outputElement.lastPromiseValue = value;\n",
              "    return next.value.response;\n",
              "  });\n",
              "}\n",
              "\n",
              "/**\n",
              " * Generator function which is called between each async step of the upload\n",
              " * process.\n",
              " * @param {string} inputId Element ID of the input file picker element.\n",
              " * @param {string} outputId Element ID of the output display.\n",
              " * @return {!Iterable<!Object>} Iterable of next steps.\n",
              " */\n",
              "function* uploadFilesStep(inputId, outputId) {\n",
              "  const inputElement = document.getElementById(inputId);\n",
              "  inputElement.disabled = false;\n",
              "\n",
              "  const outputElement = document.getElementById(outputId);\n",
              "  outputElement.innerHTML = '';\n",
              "\n",
              "  const pickedPromise = new Promise((resolve) => {\n",
              "    inputElement.addEventListener('change', (e) => {\n",
              "      resolve(e.target.files);\n",
              "    });\n",
              "  });\n",
              "\n",
              "  const cancel = document.createElement('button');\n",
              "  inputElement.parentElement.appendChild(cancel);\n",
              "  cancel.textContent = 'Cancel upload';\n",
              "  const cancelPromise = new Promise((resolve) => {\n",
              "    cancel.onclick = () => {\n",
              "      resolve(null);\n",
              "    };\n",
              "  });\n",
              "\n",
              "  // Wait for the user to pick the files.\n",
              "  const files = yield {\n",
              "    promise: Promise.race([pickedPromise, cancelPromise]),\n",
              "    response: {\n",
              "      action: 'starting',\n",
              "    }\n",
              "  };\n",
              "\n",
              "  cancel.remove();\n",
              "\n",
              "  // Disable the input element since further picks are not allowed.\n",
              "  inputElement.disabled = true;\n",
              "\n",
              "  if (!files) {\n",
              "    return {\n",
              "      response: {\n",
              "        action: 'complete',\n",
              "      }\n",
              "    };\n",
              "  }\n",
              "\n",
              "  for (const file of files) {\n",
              "    const li = document.createElement('li');\n",
              "    li.append(span(file.name, {fontWeight: 'bold'}));\n",
              "    li.append(span(\n",
              "        `(${file.type || 'n/a'}) - ${file.size} bytes, ` +\n",
              "        `last modified: ${\n",
              "            file.lastModifiedDate ? file.lastModifiedDate.toLocaleDateString() :\n",
              "                                    'n/a'} - `));\n",
              "    const percent = span('0% done');\n",
              "    li.appendChild(percent);\n",
              "\n",
              "    outputElement.appendChild(li);\n",
              "\n",
              "    const fileDataPromise = new Promise((resolve) => {\n",
              "      const reader = new FileReader();\n",
              "      reader.onload = (e) => {\n",
              "        resolve(e.target.result);\n",
              "      };\n",
              "      reader.readAsArrayBuffer(file);\n",
              "    });\n",
              "    // Wait for the data to be ready.\n",
              "    let fileData = yield {\n",
              "      promise: fileDataPromise,\n",
              "      response: {\n",
              "        action: 'continue',\n",
              "      }\n",
              "    };\n",
              "\n",
              "    // Use a chunked sending to avoid message size limits. See b/62115660.\n",
              "    let position = 0;\n",
              "    do {\n",
              "      const length = Math.min(fileData.byteLength - position, MAX_PAYLOAD_SIZE);\n",
              "      const chunk = new Uint8Array(fileData, position, length);\n",
              "      position += length;\n",
              "\n",
              "      const base64 = btoa(String.fromCharCode.apply(null, chunk));\n",
              "      yield {\n",
              "        response: {\n",
              "          action: 'append',\n",
              "          file: file.name,\n",
              "          data: base64,\n",
              "        },\n",
              "      };\n",
              "\n",
              "      let percentDone = fileData.byteLength === 0 ?\n",
              "          100 :\n",
              "          Math.round((position / fileData.byteLength) * 100);\n",
              "      percent.textContent = `${percentDone}% done`;\n",
              "\n",
              "    } while (position < fileData.byteLength);\n",
              "  }\n",
              "\n",
              "  // All done.\n",
              "  yield {\n",
              "    response: {\n",
              "      action: 'complete',\n",
              "    }\n",
              "  };\n",
              "}\n",
              "\n",
              "scope.google = scope.google || {};\n",
              "scope.google.colab = scope.google.colab || {};\n",
              "scope.google.colab._files = {\n",
              "  _uploadFiles,\n",
              "  _uploadFilesContinue,\n",
              "};\n",
              "})(self);\n",
              "</script> "
            ]
          },
          "metadata": {}
        },
        {
          "output_type": "stream",
          "name": "stdout",
          "text": [
            "Saving WMT_Earnings.csv to WMT_Earnings.csv\n"
          ]
        },
        {
          "output_type": "execute_result",
          "data": {
            "text/plain": [
              "{'WMT_Earnings.csv': b'\\xef\\xbb\\xbfDate,Value\\r\\n\"July 31, 2021\",141.05B\\r\\n\"April 30, 2021\",138.31B\\r\\n\"January 31, 2021\",152.08B\\r\\n\"October 31, 2020\",134.71B\\r\\n\"July 31, 2020\",137.74B\\r\\n\"April 30, 2020\",134.62B\\r\\n\"January 31, 2020\",141.67B\\r\\n\"October 31, 2019\",127.99B\\r\\n\"July 31, 2019\",130.38B\\r\\n\"April 30, 2019\",123.92B\\r\\n\"January 31, 2019\",138.79B\\r\\n\"October 31, 2018\",124.89B\\r\\n\"July 31, 2018\",128.03B\\r\\n\"April 30, 2018\",122.69B\\r\\n\"January 31, 2018\",136.27B\\r\\n\"October 31, 2017\",123.18B\\r\\n\"July 31, 2017\",123.36B\\r\\n\"April 30, 2017\",117.54B\\r\\n\"January 31, 2017\",130.94B\\r\\n\"October 31, 2016\",118.18B\\r\\n\"July 31, 2016\",120.85B\\r\\n\"April 30, 2016\",115.90B\\r\\n\"January 31, 2016\",129.67B\\r\\n\"October 31, 2015\",117.41B\\r\\n\"July 31, 2015\",120.23B\\r\\n\"April 30, 2015\",114.83B\\r\\n\"January 31, 2015\",131.56B\\r\\n\"October 31, 2014\",119.00B\\r\\n\"July 31, 2014\",120.12B\\r\\n\"April 30, 2014\",114.96B\\r\\n\"January 31, 2014\",129.71B\\r\\n\"October 31, 2013\",115.69B\\r\\n\"July 31, 2013\",116.83B\\r\\n\"April 30, 2013\",114.07B\\r\\n\"January 31, 2013\",127.78B\\r\\n\"October 31, 2012\",113.80B\\r\\n\"July 31, 2012\",114.28B\\r\\n\"April 30, 2012\",113.01B\\r\\n\"January 31, 2012\",122.73B\\r\\n\"October 31, 2011\",110.23B\\r\\n\"July 31, 2011\",109.37B\\r\\n\"April 30, 2011\",104.19B\\r\\n\"January 31, 2011\",116.36B\\r\\n\"October 31, 2010\",101.95B\\r\\n\"July 31, 2010\",103.73B\\r\\n\"April 30, 2010\",99.81B\\r\\n\"January 31, 2010\",113.62B\\r\\n\"October 31, 2009\",99.37B\\r\\n\"July 31, 2009\",100.88B\\r\\n\"April 30, 2009\",94.24B\\r\\n\"January 31, 2009\",108.63B\\r\\n\"October 31, 2008\",98.34B\\r\\n\"July 31, 2008\",102.34B\\r\\n\"April 30, 2008\",94.94B\\r\\n\"January 31, 2008\",105.89B\\r\\n\"October 31, 2007\",91.86B\\r\\n\"July 31, 2007\",93.00B\\r\\n\"April 30, 2007\",86.41B\\r\\n\"January 31, 2007\",98.80B\\r\\n\"October 31, 2006\",84.47B\\r\\n\"July 31, 2006\",85.43B\\r\\n\"April 30, 2006\",79.68B\\r\\n\"January 31, 2006\",89.25B\\r\\n\"October 31, 2005\",75.40B\\r\\n\"July 31, 2005\",76.70B\\r\\n\"April 30, 2005\",71.68B\\r\\n\"January 31, 2005\",79.08B\\r\\n\"October 31, 2004\",69.28B\\r\\n\"July 31, 2004\",70.46B\\r\\n\"April 30, 2004\",65.44B\\r\\n\"January 31, 2004\",75.19B\\r\\n\"October 31, 2003\",63.04B\\r\\n\"July 31, 2003\",63.23B\\r\\n\"April 30, 2003\",57.22B\\r\\n\"January 31, 2003\",66.90B\\r\\nDate,Value\\r\\n\"October 31, 2002\",55.76B\\r\\n\"July 31, 2002\",56.78B\\r\\n\"April 30, 2002\",52.13B\\r\\n\"January 31, 2002\",50.89B\\r\\n\"October 31, 2001\",53.19B\\r\\n\"July 31, 2001\",53.27B\\r\\n\"April 30, 2001\",48.56B\\r\\n\"January 31, 2001\",56.90B\\r\\n\"October 31, 2000\",46.18B\\r\\n\"July 31, 2000\",46.59B\\r\\n\"April 30, 2000\",43.45B\\r\\n\"January 31, 2000\",51.87B\\r\\n\"October 31, 1999\",40.90B\\r\\n\"July 31, 1999\",38.91B\\r\\n\"April 30, 1999\",35.13B\\r\\n\"January 31, 1999\",41.25B\\r\\n\"October 31, 1998\",33.92B\\r\\n\"July 31, 1998\",33.88B\\r\\n\"April 30, 1998\",30.16B\\r\\n\"January 31, 1998\",35.77B\\r\\n\"October 31, 1997\",29.13B\\r\\n\"July 31, 1997\",28.70B\\r\\n\"April 30, 1997\",25.70B\\r\\n\"January 31, 1997\",31.25B\\r\\n\"October 31, 1996\",26.08B'}"
            ]
          },
          "metadata": {},
          "execution_count": 3
        }
      ]
    },
    {
      "cell_type": "code",
      "source": [
        "import pandas as pd\n",
        "\n",
        "df = pd.read_csv(\"WMT_Earnings.csv\")\n",
        "invalid_row = df.iloc[75]\n",
        "print(f\"The Invalid Row Is : {invalid_row}\")\n",
        "df.drop(df.index[75])"
      ],
      "metadata": {
        "colab": {
          "base_uri": "https://localhost:8080/",
          "height": 476
        },
        "id": "ffiiZd8Jg-1s",
        "outputId": "f5bf0993-244c-48e9-d47e-3189daf399e0"
      },
      "execution_count": 67,
      "outputs": [
        {
          "output_type": "stream",
          "name": "stdout",
          "text": [
            "The Invalid Row Is : Date      Date\n",
            "Value    Value\n",
            "Name: 75, dtype: object\n"
          ]
        },
        {
          "output_type": "execute_result",
          "data": {
            "text/plain": [
              "                 Date    Value\n",
              "0       July 31, 2021  141.05B\n",
              "1      April 30, 2021  138.31B\n",
              "2    January 31, 2021  152.08B\n",
              "3    October 31, 2020  134.71B\n",
              "4       July 31, 2020  137.74B\n",
              "..                ...      ...\n",
              "96   October 31, 1997   29.13B\n",
              "97      July 31, 1997   28.70B\n",
              "98     April 30, 1997   25.70B\n",
              "99   January 31, 1997   31.25B\n",
              "100  October 31, 1996   26.08B\n",
              "\n",
              "[100 rows x 2 columns]"
            ],
            "text/html": [
              "\n",
              "  <div id=\"df-88299f73-687b-43a8-9873-98752ec837a2\" class=\"colab-df-container\">\n",
              "    <div>\n",
              "<style scoped>\n",
              "    .dataframe tbody tr th:only-of-type {\n",
              "        vertical-align: middle;\n",
              "    }\n",
              "\n",
              "    .dataframe tbody tr th {\n",
              "        vertical-align: top;\n",
              "    }\n",
              "\n",
              "    .dataframe thead th {\n",
              "        text-align: right;\n",
              "    }\n",
              "</style>\n",
              "<table border=\"1\" class=\"dataframe\">\n",
              "  <thead>\n",
              "    <tr style=\"text-align: right;\">\n",
              "      <th></th>\n",
              "      <th>Date</th>\n",
              "      <th>Value</th>\n",
              "    </tr>\n",
              "  </thead>\n",
              "  <tbody>\n",
              "    <tr>\n",
              "      <th>0</th>\n",
              "      <td>July 31, 2021</td>\n",
              "      <td>141.05B</td>\n",
              "    </tr>\n",
              "    <tr>\n",
              "      <th>1</th>\n",
              "      <td>April 30, 2021</td>\n",
              "      <td>138.31B</td>\n",
              "    </tr>\n",
              "    <tr>\n",
              "      <th>2</th>\n",
              "      <td>January 31, 2021</td>\n",
              "      <td>152.08B</td>\n",
              "    </tr>\n",
              "    <tr>\n",
              "      <th>3</th>\n",
              "      <td>October 31, 2020</td>\n",
              "      <td>134.71B</td>\n",
              "    </tr>\n",
              "    <tr>\n",
              "      <th>4</th>\n",
              "      <td>July 31, 2020</td>\n",
              "      <td>137.74B</td>\n",
              "    </tr>\n",
              "    <tr>\n",
              "      <th>...</th>\n",
              "      <td>...</td>\n",
              "      <td>...</td>\n",
              "    </tr>\n",
              "    <tr>\n",
              "      <th>96</th>\n",
              "      <td>October 31, 1997</td>\n",
              "      <td>29.13B</td>\n",
              "    </tr>\n",
              "    <tr>\n",
              "      <th>97</th>\n",
              "      <td>July 31, 1997</td>\n",
              "      <td>28.70B</td>\n",
              "    </tr>\n",
              "    <tr>\n",
              "      <th>98</th>\n",
              "      <td>April 30, 1997</td>\n",
              "      <td>25.70B</td>\n",
              "    </tr>\n",
              "    <tr>\n",
              "      <th>99</th>\n",
              "      <td>January 31, 1997</td>\n",
              "      <td>31.25B</td>\n",
              "    </tr>\n",
              "    <tr>\n",
              "      <th>100</th>\n",
              "      <td>October 31, 1996</td>\n",
              "      <td>26.08B</td>\n",
              "    </tr>\n",
              "  </tbody>\n",
              "</table>\n",
              "<p>100 rows × 2 columns</p>\n",
              "</div>\n",
              "    <div class=\"colab-df-buttons\">\n",
              "\n",
              "  <div class=\"colab-df-container\">\n",
              "    <button class=\"colab-df-convert\" onclick=\"convertToInteractive('df-88299f73-687b-43a8-9873-98752ec837a2')\"\n",
              "            title=\"Convert this dataframe to an interactive table.\"\n",
              "            style=\"display:none;\">\n",
              "\n",
              "  <svg xmlns=\"http://www.w3.org/2000/svg\" height=\"24px\" viewBox=\"0 -960 960 960\">\n",
              "    <path d=\"M120-120v-720h720v720H120Zm60-500h600v-160H180v160Zm220 220h160v-160H400v160Zm0 220h160v-160H400v160ZM180-400h160v-160H180v160Zm440 0h160v-160H620v160ZM180-180h160v-160H180v160Zm440 0h160v-160H620v160Z\"/>\n",
              "  </svg>\n",
              "    </button>\n",
              "\n",
              "  <style>\n",
              "    .colab-df-container {\n",
              "      display:flex;\n",
              "      gap: 12px;\n",
              "    }\n",
              "\n",
              "    .colab-df-convert {\n",
              "      background-color: #E8F0FE;\n",
              "      border: none;\n",
              "      border-radius: 50%;\n",
              "      cursor: pointer;\n",
              "      display: none;\n",
              "      fill: #1967D2;\n",
              "      height: 32px;\n",
              "      padding: 0 0 0 0;\n",
              "      width: 32px;\n",
              "    }\n",
              "\n",
              "    .colab-df-convert:hover {\n",
              "      background-color: #E2EBFA;\n",
              "      box-shadow: 0px 1px 2px rgba(60, 64, 67, 0.3), 0px 1px 3px 1px rgba(60, 64, 67, 0.15);\n",
              "      fill: #174EA6;\n",
              "    }\n",
              "\n",
              "    .colab-df-buttons div {\n",
              "      margin-bottom: 4px;\n",
              "    }\n",
              "\n",
              "    [theme=dark] .colab-df-convert {\n",
              "      background-color: #3B4455;\n",
              "      fill: #D2E3FC;\n",
              "    }\n",
              "\n",
              "    [theme=dark] .colab-df-convert:hover {\n",
              "      background-color: #434B5C;\n",
              "      box-shadow: 0px 1px 3px 1px rgba(0, 0, 0, 0.15);\n",
              "      filter: drop-shadow(0px 1px 2px rgba(0, 0, 0, 0.3));\n",
              "      fill: #FFFFFF;\n",
              "    }\n",
              "  </style>\n",
              "\n",
              "    <script>\n",
              "      const buttonEl =\n",
              "        document.querySelector('#df-88299f73-687b-43a8-9873-98752ec837a2 button.colab-df-convert');\n",
              "      buttonEl.style.display =\n",
              "        google.colab.kernel.accessAllowed ? 'block' : 'none';\n",
              "\n",
              "      async function convertToInteractive(key) {\n",
              "        const element = document.querySelector('#df-88299f73-687b-43a8-9873-98752ec837a2');\n",
              "        const dataTable =\n",
              "          await google.colab.kernel.invokeFunction('convertToInteractive',\n",
              "                                                    [key], {});\n",
              "        if (!dataTable) return;\n",
              "\n",
              "        const docLinkHtml = 'Like what you see? Visit the ' +\n",
              "          '<a target=\"_blank\" href=https://colab.research.google.com/notebooks/data_table.ipynb>data table notebook</a>'\n",
              "          + ' to learn more about interactive tables.';\n",
              "        element.innerHTML = '';\n",
              "        dataTable['output_type'] = 'display_data';\n",
              "        await google.colab.output.renderOutput(dataTable, element);\n",
              "        const docLink = document.createElement('div');\n",
              "        docLink.innerHTML = docLinkHtml;\n",
              "        element.appendChild(docLink);\n",
              "      }\n",
              "    </script>\n",
              "  </div>\n",
              "\n",
              "\n",
              "<div id=\"df-97165a87-2262-41d6-b29b-8f69d7af685d\">\n",
              "  <button class=\"colab-df-quickchart\" onclick=\"quickchart('df-97165a87-2262-41d6-b29b-8f69d7af685d')\"\n",
              "            title=\"Suggest charts\"\n",
              "            style=\"display:none;\">\n",
              "\n",
              "<svg xmlns=\"http://www.w3.org/2000/svg\" height=\"24px\"viewBox=\"0 0 24 24\"\n",
              "     width=\"24px\">\n",
              "    <g>\n",
              "        <path d=\"M19 3H5c-1.1 0-2 .9-2 2v14c0 1.1.9 2 2 2h14c1.1 0 2-.9 2-2V5c0-1.1-.9-2-2-2zM9 17H7v-7h2v7zm4 0h-2V7h2v10zm4 0h-2v-4h2v4z\"/>\n",
              "    </g>\n",
              "</svg>\n",
              "  </button>\n",
              "\n",
              "<style>\n",
              "  .colab-df-quickchart {\n",
              "      --bg-color: #E8F0FE;\n",
              "      --fill-color: #1967D2;\n",
              "      --hover-bg-color: #E2EBFA;\n",
              "      --hover-fill-color: #174EA6;\n",
              "      --disabled-fill-color: #AAA;\n",
              "      --disabled-bg-color: #DDD;\n",
              "  }\n",
              "\n",
              "  [theme=dark] .colab-df-quickchart {\n",
              "      --bg-color: #3B4455;\n",
              "      --fill-color: #D2E3FC;\n",
              "      --hover-bg-color: #434B5C;\n",
              "      --hover-fill-color: #FFFFFF;\n",
              "      --disabled-bg-color: #3B4455;\n",
              "      --disabled-fill-color: #666;\n",
              "  }\n",
              "\n",
              "  .colab-df-quickchart {\n",
              "    background-color: var(--bg-color);\n",
              "    border: none;\n",
              "    border-radius: 50%;\n",
              "    cursor: pointer;\n",
              "    display: none;\n",
              "    fill: var(--fill-color);\n",
              "    height: 32px;\n",
              "    padding: 0;\n",
              "    width: 32px;\n",
              "  }\n",
              "\n",
              "  .colab-df-quickchart:hover {\n",
              "    background-color: var(--hover-bg-color);\n",
              "    box-shadow: 0 1px 2px rgba(60, 64, 67, 0.3), 0 1px 3px 1px rgba(60, 64, 67, 0.15);\n",
              "    fill: var(--button-hover-fill-color);\n",
              "  }\n",
              "\n",
              "  .colab-df-quickchart-complete:disabled,\n",
              "  .colab-df-quickchart-complete:disabled:hover {\n",
              "    background-color: var(--disabled-bg-color);\n",
              "    fill: var(--disabled-fill-color);\n",
              "    box-shadow: none;\n",
              "  }\n",
              "\n",
              "  .colab-df-spinner {\n",
              "    border: 2px solid var(--fill-color);\n",
              "    border-color: transparent;\n",
              "    border-bottom-color: var(--fill-color);\n",
              "    animation:\n",
              "      spin 1s steps(1) infinite;\n",
              "  }\n",
              "\n",
              "  @keyframes spin {\n",
              "    0% {\n",
              "      border-color: transparent;\n",
              "      border-bottom-color: var(--fill-color);\n",
              "      border-left-color: var(--fill-color);\n",
              "    }\n",
              "    20% {\n",
              "      border-color: transparent;\n",
              "      border-left-color: var(--fill-color);\n",
              "      border-top-color: var(--fill-color);\n",
              "    }\n",
              "    30% {\n",
              "      border-color: transparent;\n",
              "      border-left-color: var(--fill-color);\n",
              "      border-top-color: var(--fill-color);\n",
              "      border-right-color: var(--fill-color);\n",
              "    }\n",
              "    40% {\n",
              "      border-color: transparent;\n",
              "      border-right-color: var(--fill-color);\n",
              "      border-top-color: var(--fill-color);\n",
              "    }\n",
              "    60% {\n",
              "      border-color: transparent;\n",
              "      border-right-color: var(--fill-color);\n",
              "    }\n",
              "    80% {\n",
              "      border-color: transparent;\n",
              "      border-right-color: var(--fill-color);\n",
              "      border-bottom-color: var(--fill-color);\n",
              "    }\n",
              "    90% {\n",
              "      border-color: transparent;\n",
              "      border-bottom-color: var(--fill-color);\n",
              "    }\n",
              "  }\n",
              "</style>\n",
              "\n",
              "  <script>\n",
              "    async function quickchart(key) {\n",
              "      const quickchartButtonEl =\n",
              "        document.querySelector('#' + key + ' button');\n",
              "      quickchartButtonEl.disabled = true;  // To prevent multiple clicks.\n",
              "      quickchartButtonEl.classList.add('colab-df-spinner');\n",
              "      try {\n",
              "        const charts = await google.colab.kernel.invokeFunction(\n",
              "            'suggestCharts', [key], {});\n",
              "      } catch (error) {\n",
              "        console.error('Error during call to suggestCharts:', error);\n",
              "      }\n",
              "      quickchartButtonEl.classList.remove('colab-df-spinner');\n",
              "      quickchartButtonEl.classList.add('colab-df-quickchart-complete');\n",
              "    }\n",
              "    (() => {\n",
              "      let quickchartButtonEl =\n",
              "        document.querySelector('#df-97165a87-2262-41d6-b29b-8f69d7af685d button');\n",
              "      quickchartButtonEl.style.display =\n",
              "        google.colab.kernel.accessAllowed ? 'block' : 'none';\n",
              "    })();\n",
              "  </script>\n",
              "</div>\n",
              "\n",
              "    </div>\n",
              "  </div>\n"
            ]
          },
          "metadata": {},
          "execution_count": 67
        }
      ]
    },
    {
      "cell_type": "code",
      "source": [
        "from datetime import datetime\n",
        "\n",
        "# Due to formatting issues in the irregular number of spaces we will reformat the Date column\n",
        "temp = df[\"Date\"][0]\n",
        "print(temp.split())"
      ],
      "metadata": {
        "colab": {
          "base_uri": "https://localhost:8080/"
        },
        "id": "MJasRd7th3js",
        "outputId": "29ebf897-90c8-4e65-9c52-46b4fc43b6f4"
      },
      "execution_count": 68,
      "outputs": [
        {
          "output_type": "stream",
          "name": "stdout",
          "text": [
            "['July', '31,', '2021']\n"
          ]
        }
      ]
    },
    {
      "cell_type": "code",
      "source": [
        "df[\"New Date\"] = df[\"Date\"].apply(lambda x: x.split())\n",
        "print(len(df[\"New Date\"][0]))\n",
        "print(df[\"New Date\"][0][0])\n",
        "print(df[\"New Date\"][0][1])\n",
        "print(df[\"New Date\"][0][2])"
      ],
      "metadata": {
        "colab": {
          "base_uri": "https://localhost:8080/"
        },
        "id": "n4F-kYUDqDp5",
        "outputId": "b596705d-a425-44ff-99e6-59ca77792b32"
      },
      "execution_count": 69,
      "outputs": [
        {
          "output_type": "stream",
          "name": "stdout",
          "text": [
            "3\n",
            "July\n",
            "31,\n",
            "2021\n"
          ]
        }
      ]
    },
    {
      "cell_type": "code",
      "source": [
        "for i in range(len(df)):\n",
        "  if(len(df[\"New Date\"][i]) < 2):\n",
        "    print(df[\"New Date\"][i])\n",
        "    print(i)"
      ],
      "metadata": {
        "colab": {
          "base_uri": "https://localhost:8080/"
        },
        "id": "bVMiiu5JrFd2",
        "outputId": "ce30dc85-14fe-46b1-bcf6-b16eba22687a"
      },
      "execution_count": 70,
      "outputs": [
        {
          "output_type": "stream",
          "name": "stdout",
          "text": [
            "['Date']\n",
            "75\n"
          ]
        }
      ]
    },
    {
      "cell_type": "code",
      "source": [
        "df = df.drop([75])"
      ],
      "metadata": {
        "id": "TD2viLEHraaC"
      },
      "execution_count": 71,
      "outputs": []
    },
    {
      "cell_type": "code",
      "source": [
        "df[\"New Date\"] = df[\"Date\"].apply(lambda x: x.split()[0] + \" \" + x.split()[1] + \", \" + x.split()[2])\n"
      ],
      "metadata": {
        "id": "kbcvbD2HjYFV"
      },
      "execution_count": 72,
      "outputs": []
    },
    {
      "cell_type": "code",
      "source": [
        "df[\"New Date\"] = pd.to_datetime(df[\"New Date\"])"
      ],
      "metadata": {
        "id": "grVd_ehdfwHA"
      },
      "execution_count": 73,
      "outputs": []
    },
    {
      "cell_type": "code",
      "source": [
        "df.describe()"
      ],
      "metadata": {
        "colab": {
          "base_uri": "https://localhost:8080/",
          "height": 292
        },
        "id": "MXlICPUbgvCC",
        "outputId": "1a06afc5-313c-417f-9b35-28ebd1eeb493"
      },
      "execution_count": 74,
      "outputs": [
        {
          "output_type": "stream",
          "name": "stderr",
          "text": [
            "<ipython-input-74-ea8415b8a3ee>:1: FutureWarning: Treating datetime data as categorical rather than numeric in `.describe` is deprecated and will be removed in a future version of pandas. Specify `datetime_is_numeric=True` to silence this warning and adopt the future behavior now.\n",
            "  df.describe()\n"
          ]
        },
        {
          "output_type": "execute_result",
          "data": {
            "text/plain": [
              "                 Date    Value             New Date\n",
              "count             100      100                  100\n",
              "unique            100      100                  100\n",
              "top     July 31, 2021  141.05B  2021-07-31 00:00:00\n",
              "freq                1        1                    1\n",
              "first             NaN      NaN  1996-10-31 00:00:00\n",
              "last              NaN      NaN  2021-07-31 00:00:00"
            ],
            "text/html": [
              "\n",
              "  <div id=\"df-dcf04f3d-0d97-4610-bab3-bfb9c55467f5\" class=\"colab-df-container\">\n",
              "    <div>\n",
              "<style scoped>\n",
              "    .dataframe tbody tr th:only-of-type {\n",
              "        vertical-align: middle;\n",
              "    }\n",
              "\n",
              "    .dataframe tbody tr th {\n",
              "        vertical-align: top;\n",
              "    }\n",
              "\n",
              "    .dataframe thead th {\n",
              "        text-align: right;\n",
              "    }\n",
              "</style>\n",
              "<table border=\"1\" class=\"dataframe\">\n",
              "  <thead>\n",
              "    <tr style=\"text-align: right;\">\n",
              "      <th></th>\n",
              "      <th>Date</th>\n",
              "      <th>Value</th>\n",
              "      <th>New Date</th>\n",
              "    </tr>\n",
              "  </thead>\n",
              "  <tbody>\n",
              "    <tr>\n",
              "      <th>count</th>\n",
              "      <td>100</td>\n",
              "      <td>100</td>\n",
              "      <td>100</td>\n",
              "    </tr>\n",
              "    <tr>\n",
              "      <th>unique</th>\n",
              "      <td>100</td>\n",
              "      <td>100</td>\n",
              "      <td>100</td>\n",
              "    </tr>\n",
              "    <tr>\n",
              "      <th>top</th>\n",
              "      <td>July 31, 2021</td>\n",
              "      <td>141.05B</td>\n",
              "      <td>2021-07-31 00:00:00</td>\n",
              "    </tr>\n",
              "    <tr>\n",
              "      <th>freq</th>\n",
              "      <td>1</td>\n",
              "      <td>1</td>\n",
              "      <td>1</td>\n",
              "    </tr>\n",
              "    <tr>\n",
              "      <th>first</th>\n",
              "      <td>NaN</td>\n",
              "      <td>NaN</td>\n",
              "      <td>1996-10-31 00:00:00</td>\n",
              "    </tr>\n",
              "    <tr>\n",
              "      <th>last</th>\n",
              "      <td>NaN</td>\n",
              "      <td>NaN</td>\n",
              "      <td>2021-07-31 00:00:00</td>\n",
              "    </tr>\n",
              "  </tbody>\n",
              "</table>\n",
              "</div>\n",
              "    <div class=\"colab-df-buttons\">\n",
              "\n",
              "  <div class=\"colab-df-container\">\n",
              "    <button class=\"colab-df-convert\" onclick=\"convertToInteractive('df-dcf04f3d-0d97-4610-bab3-bfb9c55467f5')\"\n",
              "            title=\"Convert this dataframe to an interactive table.\"\n",
              "            style=\"display:none;\">\n",
              "\n",
              "  <svg xmlns=\"http://www.w3.org/2000/svg\" height=\"24px\" viewBox=\"0 -960 960 960\">\n",
              "    <path d=\"M120-120v-720h720v720H120Zm60-500h600v-160H180v160Zm220 220h160v-160H400v160Zm0 220h160v-160H400v160ZM180-400h160v-160H180v160Zm440 0h160v-160H620v160ZM180-180h160v-160H180v160Zm440 0h160v-160H620v160Z\"/>\n",
              "  </svg>\n",
              "    </button>\n",
              "\n",
              "  <style>\n",
              "    .colab-df-container {\n",
              "      display:flex;\n",
              "      gap: 12px;\n",
              "    }\n",
              "\n",
              "    .colab-df-convert {\n",
              "      background-color: #E8F0FE;\n",
              "      border: none;\n",
              "      border-radius: 50%;\n",
              "      cursor: pointer;\n",
              "      display: none;\n",
              "      fill: #1967D2;\n",
              "      height: 32px;\n",
              "      padding: 0 0 0 0;\n",
              "      width: 32px;\n",
              "    }\n",
              "\n",
              "    .colab-df-convert:hover {\n",
              "      background-color: #E2EBFA;\n",
              "      box-shadow: 0px 1px 2px rgba(60, 64, 67, 0.3), 0px 1px 3px 1px rgba(60, 64, 67, 0.15);\n",
              "      fill: #174EA6;\n",
              "    }\n",
              "\n",
              "    .colab-df-buttons div {\n",
              "      margin-bottom: 4px;\n",
              "    }\n",
              "\n",
              "    [theme=dark] .colab-df-convert {\n",
              "      background-color: #3B4455;\n",
              "      fill: #D2E3FC;\n",
              "    }\n",
              "\n",
              "    [theme=dark] .colab-df-convert:hover {\n",
              "      background-color: #434B5C;\n",
              "      box-shadow: 0px 1px 3px 1px rgba(0, 0, 0, 0.15);\n",
              "      filter: drop-shadow(0px 1px 2px rgba(0, 0, 0, 0.3));\n",
              "      fill: #FFFFFF;\n",
              "    }\n",
              "  </style>\n",
              "\n",
              "    <script>\n",
              "      const buttonEl =\n",
              "        document.querySelector('#df-dcf04f3d-0d97-4610-bab3-bfb9c55467f5 button.colab-df-convert');\n",
              "      buttonEl.style.display =\n",
              "        google.colab.kernel.accessAllowed ? 'block' : 'none';\n",
              "\n",
              "      async function convertToInteractive(key) {\n",
              "        const element = document.querySelector('#df-dcf04f3d-0d97-4610-bab3-bfb9c55467f5');\n",
              "        const dataTable =\n",
              "          await google.colab.kernel.invokeFunction('convertToInteractive',\n",
              "                                                    [key], {});\n",
              "        if (!dataTable) return;\n",
              "\n",
              "        const docLinkHtml = 'Like what you see? Visit the ' +\n",
              "          '<a target=\"_blank\" href=https://colab.research.google.com/notebooks/data_table.ipynb>data table notebook</a>'\n",
              "          + ' to learn more about interactive tables.';\n",
              "        element.innerHTML = '';\n",
              "        dataTable['output_type'] = 'display_data';\n",
              "        await google.colab.output.renderOutput(dataTable, element);\n",
              "        const docLink = document.createElement('div');\n",
              "        docLink.innerHTML = docLinkHtml;\n",
              "        element.appendChild(docLink);\n",
              "      }\n",
              "    </script>\n",
              "  </div>\n",
              "\n",
              "\n",
              "<div id=\"df-196ab1b6-0dc5-4e21-b74a-aa93b0ac4b0f\">\n",
              "  <button class=\"colab-df-quickchart\" onclick=\"quickchart('df-196ab1b6-0dc5-4e21-b74a-aa93b0ac4b0f')\"\n",
              "            title=\"Suggest charts\"\n",
              "            style=\"display:none;\">\n",
              "\n",
              "<svg xmlns=\"http://www.w3.org/2000/svg\" height=\"24px\"viewBox=\"0 0 24 24\"\n",
              "     width=\"24px\">\n",
              "    <g>\n",
              "        <path d=\"M19 3H5c-1.1 0-2 .9-2 2v14c0 1.1.9 2 2 2h14c1.1 0 2-.9 2-2V5c0-1.1-.9-2-2-2zM9 17H7v-7h2v7zm4 0h-2V7h2v10zm4 0h-2v-4h2v4z\"/>\n",
              "    </g>\n",
              "</svg>\n",
              "  </button>\n",
              "\n",
              "<style>\n",
              "  .colab-df-quickchart {\n",
              "      --bg-color: #E8F0FE;\n",
              "      --fill-color: #1967D2;\n",
              "      --hover-bg-color: #E2EBFA;\n",
              "      --hover-fill-color: #174EA6;\n",
              "      --disabled-fill-color: #AAA;\n",
              "      --disabled-bg-color: #DDD;\n",
              "  }\n",
              "\n",
              "  [theme=dark] .colab-df-quickchart {\n",
              "      --bg-color: #3B4455;\n",
              "      --fill-color: #D2E3FC;\n",
              "      --hover-bg-color: #434B5C;\n",
              "      --hover-fill-color: #FFFFFF;\n",
              "      --disabled-bg-color: #3B4455;\n",
              "      --disabled-fill-color: #666;\n",
              "  }\n",
              "\n",
              "  .colab-df-quickchart {\n",
              "    background-color: var(--bg-color);\n",
              "    border: none;\n",
              "    border-radius: 50%;\n",
              "    cursor: pointer;\n",
              "    display: none;\n",
              "    fill: var(--fill-color);\n",
              "    height: 32px;\n",
              "    padding: 0;\n",
              "    width: 32px;\n",
              "  }\n",
              "\n",
              "  .colab-df-quickchart:hover {\n",
              "    background-color: var(--hover-bg-color);\n",
              "    box-shadow: 0 1px 2px rgba(60, 64, 67, 0.3), 0 1px 3px 1px rgba(60, 64, 67, 0.15);\n",
              "    fill: var(--button-hover-fill-color);\n",
              "  }\n",
              "\n",
              "  .colab-df-quickchart-complete:disabled,\n",
              "  .colab-df-quickchart-complete:disabled:hover {\n",
              "    background-color: var(--disabled-bg-color);\n",
              "    fill: var(--disabled-fill-color);\n",
              "    box-shadow: none;\n",
              "  }\n",
              "\n",
              "  .colab-df-spinner {\n",
              "    border: 2px solid var(--fill-color);\n",
              "    border-color: transparent;\n",
              "    border-bottom-color: var(--fill-color);\n",
              "    animation:\n",
              "      spin 1s steps(1) infinite;\n",
              "  }\n",
              "\n",
              "  @keyframes spin {\n",
              "    0% {\n",
              "      border-color: transparent;\n",
              "      border-bottom-color: var(--fill-color);\n",
              "      border-left-color: var(--fill-color);\n",
              "    }\n",
              "    20% {\n",
              "      border-color: transparent;\n",
              "      border-left-color: var(--fill-color);\n",
              "      border-top-color: var(--fill-color);\n",
              "    }\n",
              "    30% {\n",
              "      border-color: transparent;\n",
              "      border-left-color: var(--fill-color);\n",
              "      border-top-color: var(--fill-color);\n",
              "      border-right-color: var(--fill-color);\n",
              "    }\n",
              "    40% {\n",
              "      border-color: transparent;\n",
              "      border-right-color: var(--fill-color);\n",
              "      border-top-color: var(--fill-color);\n",
              "    }\n",
              "    60% {\n",
              "      border-color: transparent;\n",
              "      border-right-color: var(--fill-color);\n",
              "    }\n",
              "    80% {\n",
              "      border-color: transparent;\n",
              "      border-right-color: var(--fill-color);\n",
              "      border-bottom-color: var(--fill-color);\n",
              "    }\n",
              "    90% {\n",
              "      border-color: transparent;\n",
              "      border-bottom-color: var(--fill-color);\n",
              "    }\n",
              "  }\n",
              "</style>\n",
              "\n",
              "  <script>\n",
              "    async function quickchart(key) {\n",
              "      const quickchartButtonEl =\n",
              "        document.querySelector('#' + key + ' button');\n",
              "      quickchartButtonEl.disabled = true;  // To prevent multiple clicks.\n",
              "      quickchartButtonEl.classList.add('colab-df-spinner');\n",
              "      try {\n",
              "        const charts = await google.colab.kernel.invokeFunction(\n",
              "            'suggestCharts', [key], {});\n",
              "      } catch (error) {\n",
              "        console.error('Error during call to suggestCharts:', error);\n",
              "      }\n",
              "      quickchartButtonEl.classList.remove('colab-df-spinner');\n",
              "      quickchartButtonEl.classList.add('colab-df-quickchart-complete');\n",
              "    }\n",
              "    (() => {\n",
              "      let quickchartButtonEl =\n",
              "        document.querySelector('#df-196ab1b6-0dc5-4e21-b74a-aa93b0ac4b0f button');\n",
              "      quickchartButtonEl.style.display =\n",
              "        google.colab.kernel.accessAllowed ? 'block' : 'none';\n",
              "    })();\n",
              "  </script>\n",
              "</div>\n",
              "\n",
              "    </div>\n",
              "  </div>\n"
            ]
          },
          "metadata": {},
          "execution_count": 74
        }
      ]
    },
    {
      "cell_type": "code",
      "source": [
        "# Remove the B from the value column\n",
        "df['Value'] = df['Value'].apply(lambda x: float(x[:-1]))\n",
        "df = df.sort_values(\"New Date\")"
      ],
      "metadata": {
        "id": "BZBqOcyXhFvn"
      },
      "execution_count": 75,
      "outputs": []
    },
    {
      "cell_type": "markdown",
      "source": [
        "Notice while the revenue is increasing overall, there are periodic spikes in the data. We can use a LTSM to capture these seasonal trends and encorporate it into our model."
      ],
      "metadata": {
        "id": "I61bLodXiGK1"
      }
    },
    {
      "cell_type": "code",
      "source": [
        "import matplotlib.pyplot as plt\n",
        "\n",
        "plt.figure(figsize=(10,7))\n",
        "plt.title(\"Revenue over Time\")\n",
        "plt.plot(df[\"New Date\"], df[\"Value\"])"
      ],
      "metadata": {
        "colab": {
          "base_uri": "https://localhost:8080/",
          "height": 639
        },
        "id": "qfXOA9b4f9NU",
        "outputId": "01c61e82-0123-45c4-d5f7-b78c200387e3"
      },
      "execution_count": 76,
      "outputs": [
        {
          "output_type": "execute_result",
          "data": {
            "text/plain": [
              "[<matplotlib.lines.Line2D at 0x7a58b8617610>]"
            ]
          },
          "metadata": {},
          "execution_count": 76
        },
        {
          "output_type": "display_data",
          "data": {
            "text/plain": [
              "<Figure size 1000x700 with 1 Axes>"
            ],
            "image/png": "[encoded data removed]"
          },
          "metadata": {}
        }
      ]
    },
    {
      "cell_type": "markdown",
      "source": [
        "## Date Pre-Processing"
      ],
      "metadata": {
        "id": "vbvPLhEJiRg9"
      }
    },
    {
      "cell_type": "code",
      "source": [
        "# Because COVID affectd the seasonal trends in 2019 -> Let's only look at data pre 2019\n",
        "df = df[df[\"New Date\"].dt.year < 2019]\n"
      ],
      "metadata": {
        "id": "1OHqdM7Vj9AH"
      },
      "execution_count": 77,
      "outputs": []
    },
    {
      "cell_type": "code",
      "source": [
        "df.columns"
      ],
      "metadata": {
        "colab": {
          "base_uri": "https://localhost:8080/"
        },
        "id": "3zyyPrH0l5Ve",
        "outputId": "5453f2bd-c8e3-4077-8316-5c2b005c9a55"
      },
      "execution_count": 78,
      "outputs": [
        {
          "output_type": "execute_result",
          "data": {
            "text/plain": [
              "Index(['Date', 'Value', 'New Date'], dtype='object')"
            ]
          },
          "metadata": {},
          "execution_count": 78
        }
      ]
    },
    {
      "cell_type": "code",
      "source": [
        "data = df[\"Value\"]\n",
        "\n",
        "train = data[:-8].values.reshape(-1,1)\n",
        "test = data[-8:].values.reshape(-1, 1)"
      ],
      "metadata": {
        "id": "b-oCCKQIlATK"
      },
      "execution_count": 79,
      "outputs": []
    },
    {
      "cell_type": "code",
      "source": [
        "# Linearlly Scale the Features between (0,1) -> Does not reduce effect of outliers\n",
        "\n",
        "from sklearn.preprocessing import MinMaxScaler\n",
        "scaler = MinMaxScaler()\n",
        "scaler.fit(train)\n",
        "train_scaled = scaler.transform(train)\n"
      ],
      "metadata": {
        "id": "TxfP_DbwiTUq"
      },
      "execution_count": 80,
      "outputs": []
    },
    {
      "cell_type": "code",
      "source": [
        "# Convert to pytorch tensor\n",
        "import torch\n",
        "train_scaled = torch.FloatTensor(train_scaled)\n",
        "print(f\"Original Dimensions: {train_scaled.shape}\")\n",
        "train_scaled = train_scaled.reshape((-1, ))"
      ],
      "metadata": {
        "colab": {
          "base_uri": "https://localhost:8080/"
        },
        "id": "jtMFcYkEmQou",
        "outputId": "803c454f-ef77-41da-f6f3-5bed6def9f85"
      },
      "execution_count": 81,
      "outputs": [
        {
          "output_type": "stream",
          "name": "stdout",
          "text": [
            "Original Dimensions: torch.Size([81, 1])\n"
          ]
        }
      ]
    },
    {
      "cell_type": "code",
      "source": [
        "print(f\"New Dimensions : {train_scaled.shape}\")"
      ],
      "metadata": {
        "colab": {
          "base_uri": "https://localhost:8080/"
        },
        "id": "A1-8VVKTmulM",
        "outputId": "2d35e7ee-2376-4643-eac1-88094fe0dbff"
      },
      "execution_count": 82,
      "outputs": [
        {
          "output_type": "stream",
          "name": "stdout",
          "text": [
            "New Dimensions : torch.Size([81])\n"
          ]
        }
      ]
    },
    {
      "cell_type": "markdown",
      "source": [
        "## Create Model\n",
        "\n",
        "We need to procure a supervised model which uses a set number of data points as examples then attempts to predict the next N number of data points.\n",
        "- We will use the (x,y) pairs of sizes (16,8)"
      ],
      "metadata": {
        "id": "Th1pssCvm2LW"
      }
    },
    {
      "cell_type": "code",
      "source": [
        "# Create X and y datapoints\n",
        "train_periods = 16 # Number of data points in X\n",
        "pred_periods = 8 # Number of data points in y\n",
        "\n",
        "# Number of (X,y) pairs created from dataset\n",
        "num_examples = range(len(train_scaled) - train_periods - pred_periods)\n",
        "\n",
        "X_train = [train_scaled[i:i+train_periods] for i in num_examples]\n",
        "y_train = [train_scaled[i+train_periods:i+train_periods+pred_periods] for i in num_examples]\n",
        "\n",
        "# Convert Back to Torch Tensors\n",
        "X_train = torch.stack(X_train)\n",
        "y_train = torch.stack(y_train)\n",
        "\n",
        "print(X_train.shape)\n",
        "print(y_train.shape)"
      ],
      "metadata": {
        "colab": {
          "base_uri": "https://localhost:8080/"
        },
        "id": "YdlE8e6snGAp",
        "outputId": "547c1330-8de8-429d-884a-311e56600fa2"
      },
      "execution_count": 83,
      "outputs": [
        {
          "output_type": "stream",
          "name": "stdout",
          "text": [
            "torch.Size([57, 16])\n",
            "torch.Size([57, 8])\n"
          ]
        }
      ]
    },
    {
      "cell_type": "markdown",
      "source": [
        "Inputs : Hidden State and New Data Point\n",
        "\n",
        "Remember the overall process of LSTM is as follows\n",
        "- Forget Gate : Determines what parts of the cell state are useful\n",
        "- New Memory Network and Input Gate : Generates a update vector which is filtered by the input gate to determine which components of update vector are worth retaining\n",
        "- Output Gate : Decide on the new hidden state by generating a filter vector to be used over the cell state\n",
        "\n",
        "See the PyTorch documentation for `nn.LSTM`"
      ],
      "metadata": {
        "id": "363Ce180quBs"
      }
    },
    {
      "cell_type": "code",
      "source": [
        "device = \"cuda\" if torch.cuda.is_available() else \"cpu\""
      ],
      "metadata": {
        "id": "9LKpiCHZ0wZI"
      },
      "execution_count": 84,
      "outputs": []
    },
    {
      "cell_type": "code",
      "source": [
        "# Create Model\n",
        "from torch import nn\n",
        "\n",
        "class LSTM(nn.Module):\n",
        "  \"\"\"\n",
        "  input_size - Will be 1 in this example since we only have 1 predictor\n",
        "  hidden_size - Can be chosen to dictate how much hidden \"long-term\" memory network has\n",
        "  output_sdize - Equals the pred_periods or num of data points in y\n",
        "  \"\"\"\n",
        "\n",
        "  def __init__(self, input_size, hidden_size, output_size):\n",
        "    super(LSTM, self).__init__()\n",
        "    self.hidden_size = hidden_size\n",
        "    self.lstm = nn.LSTM(input_size, hidden_size)\n",
        "    self.linear = nn.Linear(hidden_size, output_size)\n",
        "\n",
        "  def forward(self, x, hidden=None):\n",
        "    if hidden is None:\n",
        "      self.hidden = (torch.zeros(1, 1, self.hidden_size).to(device),\n",
        "                     torch.zeros(1,1, self.hidden_size).to(device))\n",
        "\n",
        "    else:\n",
        "      self.hidden = hidden\n",
        "\n",
        "    # Gets the hidden and cell state\n",
        "    lstm_out, self.hidden = self.lstm(x.view(len(x), 1, -1),\n",
        "                                      self.hidden)\n",
        "\n",
        "    predictions = self.linear(lstm_out.view(len(x), -1))\n",
        "\n",
        "    return predictions[-1], self.hidden\n"
      ],
      "metadata": {
        "id": "FmGWOMk0nZbq"
      },
      "execution_count": 98,
      "outputs": []
    },
    {
      "cell_type": "markdown",
      "source": [
        "The model takes 3 different inputs\n",
        "- **input_siuze** : Number of predictor features we are using ( in our case we are only using 1 which is the revenue )\n",
        "- **hidden_size** : The dimension of hidden and cell state\n",
        "- **output_size** The output of the LSTM which must be converted using a linear layer. In our case we want the next 8 predicted revenue values\n",
        "\n",
        "Our model will output both the predictions and the hidden state. While we will not use the hidden state but can be useful if you need to make further predictions while retaining previous context at a given point in time"
      ],
      "metadata": {
        "id": "kDx4wOtjuPqe"
      }
    },
    {
      "cell_type": "code",
      "source": [
        "# Initialize optimizer and criterion (loss function)\n",
        "\n",
        "# Hidden size is a hyperparameter than can be tuned\n",
        "model = LSTM(input_size=1, hidden_size=50, output_size=8)\n",
        "criterion = nn.MSELoss() # Working with continuous data\n",
        "optimizer = torch.optim.Adam(params = model.parameters(),\n",
        "                             lr = 0.001)\n"
      ],
      "metadata": {
        "id": "-Zw0-3eewcQd"
      },
      "execution_count": 99,
      "outputs": []
    },
    {
      "cell_type": "markdown",
      "source": [
        "We will follow a standard training proceedure for supervised machine learning models\n",
        "- Define number of epochs - how many times the training procedure will use the entire dataset\n",
        "- For each (*x,y*) pair, calculate the predicted $\\hat{y}$.\n",
        "- Compute the loss (MSE) between $\\hat{y}$ and y\n",
        "- Compute the gradients of the parameters in the model\n",
        "- Update the parameters using optimizer"
      ],
      "metadata": {
        "id": "aAW7Kgz7xEjt"
      }
    },
    {
      "cell_type": "code",
      "source": [
        "## Train Model\n",
        "from tqdm.auto import tqdm\n",
        "\n",
        "epochs = 200\n",
        "model.train()\n",
        "model.to(device)\n",
        "\n",
        "for epoch in tqdm(range(epochs), desc=\"Training\"):\n",
        "\n",
        "  # Going Through Each \"Batch\"\n",
        "  for X, y in zip(X_train, y_train):\n",
        "    X, y = X.to(device), y.to(device)\n",
        "    y_preds, _ = model(X, None)\n",
        "    loss = criterion(y_preds, y)\n",
        "\n",
        "    optimizer.zero_grad()\n",
        "    loss.backward()\n",
        "    optimizer.step()\n",
        "\n",
        "  # Print output\n",
        "  if epoch % 5 == 0:\n",
        "    print(f\"Epoch : {epoch} | Loss : {loss:.4f}\")\n"
      ],
      "metadata": {
        "colab": {
          "base_uri": "https://localhost:8080/",
          "height": 743,
          "referenced_widgets": [
            "a8ca8f727751409f9defb9cb0f02b195",
            "a0bf0fd08404449496be2070b51165b1",
            "38f7b4df609b4a4aa555b93e08f8cb27",
            "e24542efa37f45bdbc961875ffbcc1e1",
            "a09b1f7334bd443eb887dded1806a28c",
            "8fecbd9c5c8649699d37e93a8c00dc97",
            "41551ca099584b76a1b01bb06880b933",
            "a2cb0a042ebc4292a9c5c4ff1baccba4",
            "307c261809d24f67a18f70b143608dc6",
            "510822965db44d9a83d9463078eb7918",
            "8f3fb973394447d79e1f7e14b4d08c2d"
          ]
        },
        "id": "llyEIzr9xA9k",
        "outputId": "172be413-92f7-4474-dfc4-49621b0c9b2f"
      },
      "execution_count": 100,
      "outputs": [
        {
          "output_type": "display_data",
          "data": {
            "text/plain": [
              "Training:   0%|          | 0/200 [00:00<?, ?it/s]"
            ],
            "application/vnd.jupyter.widget-view+json": {
              "version_major": 2,
              "version_minor": 0,
              "model_id": "a8ca8f727751409f9defb9cb0f02b195"
            }
          },
          "metadata": {}
        },
        {
          "output_type": "stream",
          "name": "stdout",
          "text": [
            "Epoch : 0 | Loss : 0.0072\n",
            "Epoch : 5 | Loss : 0.0052\n",
            "Epoch : 10 | Loss : 0.0049\n",
            "Epoch : 15 | Loss : 0.0035\n",
            "Epoch : 20 | Loss : 0.0045\n",
            "Epoch : 25 | Loss : 0.0044\n",
            "Epoch : 30 | Loss : 0.0043\n",
            "Epoch : 35 | Loss : 0.0042\n",
            "Epoch : 40 | Loss : 0.0040\n",
            "Epoch : 45 | Loss : 0.0038\n",
            "Epoch : 50 | Loss : 0.0032\n",
            "Epoch : 55 | Loss : 0.0032\n",
            "Epoch : 60 | Loss : 0.0033\n",
            "Epoch : 65 | Loss : 0.0033\n",
            "Epoch : 70 | Loss : 0.0031\n",
            "Epoch : 75 | Loss : 0.0022\n",
            "Epoch : 80 | Loss : 0.0016\n",
            "Epoch : 85 | Loss : 0.0017\n",
            "Epoch : 90 | Loss : 0.0014\n",
            "Epoch : 95 | Loss : 0.0013\n",
            "Epoch : 100 | Loss : 0.0013\n",
            "Epoch : 105 | Loss : 0.0011\n",
            "Epoch : 110 | Loss : 0.0009\n",
            "Epoch : 115 | Loss : 0.0011\n",
            "Epoch : 120 | Loss : 0.0004\n",
            "Epoch : 125 | Loss : 0.0014\n",
            "Epoch : 130 | Loss : 0.0005\n",
            "Epoch : 135 | Loss : 0.0005\n",
            "Epoch : 140 | Loss : 0.0004\n",
            "Epoch : 145 | Loss : 0.0001\n",
            "Epoch : 150 | Loss : 0.0010\n",
            "Epoch : 155 | Loss : 0.0005\n",
            "Epoch : 160 | Loss : 0.0005\n",
            "Epoch : 165 | Loss : 0.0013\n",
            "Epoch : 170 | Loss : 0.0006\n",
            "Epoch : 175 | Loss : 0.0002\n",
            "Epoch : 180 | Loss : 0.0001\n",
            "Epoch : 185 | Loss : 0.0004\n",
            "Epoch : 190 | Loss : 0.0001\n",
            "Epoch : 195 | Loss : 0.0002\n"
          ]
        }
      ]
    },
    {
      "cell_type": "markdown",
      "source": [
        "## Make Predictiosn and Visualize Results"
      ],
      "metadata": {
        "id": "XIiqT_XA1otx"
      }
    },
    {
      "cell_type": "code",
      "source": [
        "import numpy as np\n",
        "model.eval()\n",
        "\n",
        "# Predict the next 8 datapoints with the \"most recent\" data\n",
        "with torch.inference_mode():\n",
        "  predictions, _ = model(train_scaled[-16:].to(device), None)\n",
        "\n",
        "predictions = scaler.inverse_transform(np.array(predictions.detach().cpu().numpy().reshape(-1, 1)))\n"
      ],
      "metadata": {
        "id": "Hyj2WYB01uJw"
      },
      "execution_count": 101,
      "outputs": []
    },
    {
      "cell_type": "code",
      "source": [
        "print(predictions)"
      ],
      "metadata": {
        "colab": {
          "base_uri": "https://localhost:8080/"
        },
        "id": "iQ-QtMf334el",
        "outputId": "ed9ddf47-8abd-4c1a-b078-bd6f5cb83fb5"
      },
      "execution_count": 102,
      "outputs": [
        {
          "output_type": "stream",
          "name": "stdout",
          "text": [
            "[[130.43654]\n",
            " [117.02057]\n",
            " [120.44472]\n",
            " [118.4047 ]\n",
            " [132.04243]\n",
            " [118.42523]\n",
            " [121.64483]\n",
            " [119.15221]]\n"
          ]
        }
      ]
    },
    {
      "cell_type": "markdown",
      "source": [
        "By comparing the predicted (red) to the true (blue) we can see the model picking up the seasonal trends. The predictiosn seem to be lower than acutal, but can be explained by examining the previous data points."
      ],
      "metadata": {
        "id": "VrC2SJA65mCr"
      }
    },
    {
      "cell_type": "code",
      "source": [
        "# Visualize the results\n",
        "\n",
        "x = df[\"New Date\"]\n",
        "\n",
        "plt.figure(figsize=(10,7))\n",
        "plt.title(\"Wallmart Quarterly Earnings\")\n",
        "plt.ylabel(\"Earnings (Billions)\")\n",
        "plt.grid(True)\n",
        "\n",
        "plt.plot(x,\n",
        "        df[\"Value\"],\n",
        "        \"b-\",\n",
        "         label=\"True Values\")\n",
        "\n",
        "plt.plot(x[-len(predictions):],\n",
        "         predictions,\n",
        "         \"r-\",\n",
        "         label=\"Predicted Values\")\n",
        "\n",
        "plt.legend()\n",
        "\n"
      ],
      "metadata": {
        "colab": {
          "base_uri": "https://localhost:8080/",
          "height": 659
        },
        "id": "_ll61Tau2caG",
        "outputId": "8b04e6df-5da8-4fbe-ada2-169f732f4a0f"
      },
      "execution_count": 103,
      "outputs": [
        {
          "output_type": "execute_result",
          "data": {
            "text/plain": [
              "<matplotlib.legend.Legend at 0x7a5920ac6e90>"
            ]
          },
          "metadata": {},
          "execution_count": 103
        },
        {
          "output_type": "display_data",
          "data": {
            "text/plain": [
              "<Figure size 1000x700 with 1 Axes>"
            ],
            "image/png": "[encoded data removed]"
          },
          "metadata": {}
        }
      ]
    }
  ]
}