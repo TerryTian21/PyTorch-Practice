{
  "nbformat": 4,
  "nbformat_minor": 0,
  "metadata": {
    "colab": {
      "provenance": [],
      "authorship_tag": "ABX9TyPFMYlqZF/oOyx0L7ldmSMR",
      "include_colab_link": true
    },
    "kernelspec": {
      "name": "python3",
      "display_name": "Python 3"
    },
    "language_info": {
      "name": "python"
    }
  },
  "cells": [
    {
      "cell_type": "markdown",
      "metadata": {
        "id": "view-in-github",
        "colab_type": "text"
      },
      "source": [
        "<a href=\"https://colab.research.google.com/github/TerryTian21/PyTorch-Practice/blob/main/Tutorials/Ensemble_Learning.ipynb\" target=\"_parent\"><img src=\"https://colab.research.google.com/assets/colab-badge.svg\" alt=\"Open In Colab\"/></a>"
      ]
    },
    {
      "cell_type": "markdown",
      "source": [
        "# Ensemble Techniques for ML\n",
        "\n",
        "Video Reference : https://www.youtube.com/watch?v=CDewPfLV4Tc"
      ],
      "metadata": {
        "id": "fMZVRAopQwG9"
      }
    },
    {
      "cell_type": "code",
      "source": [],
      "metadata": {
        "id": "ENn950vcQ8BE"
      },
      "execution_count": null,
      "outputs": []
    }
  ]
}